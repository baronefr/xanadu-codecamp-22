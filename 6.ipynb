{
 "cells": [
  {
   "cell_type": "markdown",
   "metadata": {},
   "source": [
    "# Differentiable ZNE: Global circuit folding\n",
    "\n",
    "In the \"Explorer\" level challenge, you looked at modelling noise in a quantum computer. Let's take an adventure into the realm of error-mitigation with the introduction of *global circuit folding*.\n",
    "\n",
    "Error mitigation is the idea that we can bypass, or *mitigate*, errors that are present in real quantum hardware without actually doing anything to the hardware itself. Remember those bitflip errors you looked at? What if there was a way to get rid of them without *actually* getting rid of them?\n",
    "\n",
    "How can we do this in practice? With zero-noise extrapolation (ZNE)!\n",
    "\n",
    "The ZNE protocol approaches error mitigation in a somewhat backwards way; instead of coming up with a way to reduce the error directly, we instead _increase_ the error and extrapolate _back_ to zero error. In other words, we want to create more noise in order to extrapolate less noise. So how do we create more noise?\n",
    "\n",
    "One way to create more noise in a quantum circuit being run on real hardware is to increase the depth of the quantum circuit. Imagine I have some unitary $U$ that describes my quantum circuit. I still want my circuit to effectively be described by $U$, but what's to stop us from doing this: $U\\rightarrow U \\mathbb{I}^n = U (U^\\dagger U)^n$? At the end of the day, the circuit is still doing the same thing, but we've increased the number of gates in the circuit $d$ to be $d\\rightarrow d(2n+1)$. If programming each gate onto a real device imparts some noise, we've introduced more noise from this mapping!\n",
    "\n",
    "We can generalize the mapping $U\\rightarrow U (U^\\dagger U)^n$ further by including _partial_ folds:\n",
    "\n",
    "$$U\\rightarrow U (U^\\dagger U)^n \\rightarrow U (U^\\dagger U)^n L^\\dagger_d \\cdots L^\\dagger_s L_s \\cdots L_d$$\n",
    "\n",
    "where $s\\in [1, d]$ and $L_i$ denotes a quantum gate within $U$. Specifically, $U=L_1 L_2 \\cdots L_s \\cdots L_d$. In this challenge, you will implement a noisy circuit $U (U^\\dagger U)^n L^\\dagger_d \\cdots L^\\dagger_s L_s \\cdots L_d$."
   ]
  },
  {
   "cell_type": "markdown",
   "metadata": {},
   "source": [
    "## Challenge code\n",
    "\n",
    "The provided code below contains several functions:\n",
    "- `U`: A quantum function that applies the gates in the circuit (i.e. all of the $L_i$'s):\n"
   ]
  },
  {
   "cell_type": "markdown",
   "metadata": {},
   "source": [
    "<img src=\" data:image/png;base64,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\">"
   ]
  },
  {
   "cell_type": "markdown",
   "metadata": {},
   "source": [
    "- `circuit`: A noisy circuit using $U$, where noise is placed on every gate (see `dev_noisy`). Here, the noise is described by a depolarizing channel.\n",
    "- `circuit_ops`: A function that returns all of the gates in `circuit`.\n",
    "- `global_fold_circuit`: A noisy circuit that implements the global circuit folding protocol: $U (U^\\dagger U)^n L^\\dagger_d \\cdots L^\\dagger_s L_s \\cdots L_d$. **You must complete this function**.\n",
    "- `fidelity`: A function that calculates the fidelity between the output state from `circuit` (i.e. the original circuit) and the state from `global_fold_circuit`. Your `global_fold_circuit` function's validity will be assessed via the `fidelity` function.\n",
    "\n",
    "\n",
    "\n",
    "### Input\n",
    "\n",
    "As input to this problem, you will be given:\n",
    "\n",
    "- `angle`: a rotation angle needed to define `U`\n",
    "- `n`: the number of times $U^\\dagger U$ gets implemented\n",
    "- `s`: the parameter that defines $L_s \\cdots L_d$\n",
    "\n",
    "Please note that `s` will be given as an integer $[1, d]$. Make sure to index properly!\n",
    "\n",
    "\n",
    "\n",
    "\n",
    "### Output\n",
    "\n",
    "This code will output the fidelity, a `float`, between the output state from `circuit` and the state from `global_fold_circuit`.\n",
    "\n",
    "If your solution matches the correct one within the given tolerance specified in `check` (in this case it's a `1e-4` relative error tolerance), the output will be `\"Correct!\"`. Otherwise, you will receive a `\"Wrong answer\"` prompt.\n",
    "\n",
    "Good luck!"
   ]
  },
  {
   "cell_type": "code",
   "execution_count": null,
   "metadata": {},
   "outputs": [],
   "source": [
    "import functools\n",
    "import json\n",
    "import math\n",
    "import pandas as pd\n",
    "import pennylane as qml\n",
    "import pennylane.numpy as np\n",
    "import scipy"
   ]
  },
  {
   "cell_type": "code",
   "execution_count": null,
   "metadata": {},
   "outputs": [],
   "source": [
    "dev_ideal = qml.device(\"default.mixed\", wires=2)  # no noise\n",
    "dev_noisy = qml.transforms.insert(qml.DepolarizingChannel, 0.05, position=\"all\")(\n",
    "    dev_ideal\n",
    ")\n",
    "\n",
    "def U(angle):\n",
    "    \"\"\"A quantum function containing one parameterized gate.\n",
    "\n",
    "    Args:\n",
    "        angle (float): The phase angle for an IsingXY operator\n",
    "    \"\"\"\n",
    "    qml.Hadamard(0)\n",
    "    qml.Hadamard(1)\n",
    "    qml.CNOT(wires=[0, 1])\n",
    "    qml.PauliZ(1)\n",
    "    qml.IsingXY(angle, [0, 1])\n",
    "    qml.S(1)\n",
    "\n",
    "@qml.qnode(dev_noisy)\n",
    "def circuit(angle):\n",
    "    \"\"\"A quantum circuit made from the quantum function U.\n",
    "\n",
    "    Args:\n",
    "        angle (float): The phase angle for an IsingXY operator\n",
    "\n",
    "    Returns:\n",
    "        (numpy.array): A quantum state.\n",
    "    \"\"\"\n",
    "    U(angle)\n",
    "    return qml.state()\n",
    "\n",
    "@qml.tape.stop_recording()\n",
    "def circuit_ops(angle):\n",
    "    \"\"\"A function that outputs the operations within the quantum function U.\n",
    "\n",
    "    Args:\n",
    "        angle (float): The phase angle for an IsingXY operator\n",
    "\n",
    "    Returns:\n",
    "        (list(qml.operation.Operation)): A list of operations that make up the unitary U.\n",
    "    \"\"\"\n",
    "    with qml.tape.QuantumTape() as tape:\n",
    "        U(angle)\n",
    "    return tape.operations\n"
   ]
  },
  {
   "cell_type": "code",
   "execution_count": null,
   "metadata": {},
   "outputs": [],
   "source": [
    "@qml.qnode(dev_noisy)\n",
    "def global_fold_circuit(angle, n, s):\n",
    "    \"\"\"Performs the global circuit folding procedure.\n",
    "\n",
    "    Args:\n",
    "        angle (float): The phase angle for an IsingXY operator\n",
    "        n: The number of times U^\\dagger U is applied\n",
    "        s: The integer defining L_s ... L_d.\n",
    "    \"\"\"\n",
    "    assert s <= len(\n",
    "        circuit_ops(angle)\n",
    "    ), \"The value of s is upper-bounded by the number of gates in the circuit.\"\n",
    "\n",
    "    U(angle)  # Original circuit application\n",
    "\n",
    "    # (U^\\dagger U)^n\n",
    "    for i in range(n):\n",
    "        qml.adjoint(U)(angle)\n",
    "        U(angle)\n",
    "\n",
    "    subU = circuit_ops(angle)[(s-1)::] # selecting the operators L_i from s to d\n",
    "\n",
    "    # L_d^\\dagger ... L_s^\\dagger\n",
    "    for op in subU[::-1]:  qml.adjoint(op)\n",
    "    \n",
    "    # L_s ... L_d\n",
    "    for op in subU:  qml.apply(op)\n",
    "\n",
    "    return qml.state()\n"
   ]
  },
  {
   "cell_type": "code",
   "execution_count": null,
   "metadata": {},
   "outputs": [],
   "source": [
    "def fidelity(angle, n, s):\n",
    "    fid = qml.math.fidelity(global_fold_circuit(angle, n, s), circuit(angle))\n",
    "    return np.round_(fid, decimals=5)\n"
   ]
  },
  {
   "cell_type": "code",
   "execution_count": null,
   "metadata": {},
   "outputs": [],
   "source": [
    "# These functions are responsible for testing the solution.\n",
    "\n",
    "def run(test_case_input: str) -> str:\n",
    "    angle, n, s = json.loads(test_case_input)\n",
    "    fid = fidelity(angle, n, s)\n",
    "    return str(fid)\n",
    "\n",
    "def check(solution_output: str, expected_output: str) -> None:\n",
    "    solution_output = json.loads(solution_output)\n",
    "    expected_output = json.loads(expected_output)\n",
    "    assert np.allclose(\n",
    "        solution_output, expected_output, rtol=1e-4\n",
    "    ), \"Your folded circuit isn't quite right!\"\n"
   ]
  },
  {
   "cell_type": "code",
   "execution_count": null,
   "metadata": {},
   "outputs": [],
   "source": [
    "test_cases = [['[0.4, 2, 3]', '0.79209']]"
   ]
  },
  {
   "cell_type": "code",
   "execution_count": null,
   "metadata": {},
   "outputs": [],
   "source": [
    "for i, (input_, expected_output) in enumerate(test_cases):\n",
    "    print(f\"Running test case {i} with input '{input_}'...\")\n",
    "\n",
    "    try:\n",
    "        output = run(input_)\n",
    "\n",
    "    except Exception as exc:\n",
    "        print(f\"Runtime Error. {exc}\")\n",
    "\n",
    "    else:\n",
    "        if message := check(output, expected_output):\n",
    "            print(f\"Wrong Answer. Have: '{output}'. Want: '{expected_output}'.\")\n",
    "\n",
    "        else:\n",
    "            print(\"Correct!\")"
   ]
  }
 ],
 "metadata": {
  "kernelspec": {
   "display_name": "Python 3.10.6 64-bit",
   "language": "python",
   "name": "python3"
  },
  "language_info": {
   "name": "python",
   "version": "3.10.6"
  },
  "orig_nbformat": 4,
  "vscode": {
   "interpreter": {
    "hash": "916dbcbb3f70747c44a77c7bcd40155683ae19c65e1c03b4aa3499c5328201f1"
   }
  }
 },
 "nbformat": 4,
 "nbformat_minor": 2
}
