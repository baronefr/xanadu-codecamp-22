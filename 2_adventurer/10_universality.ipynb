{
 "cells": [
  {
   "cell_type": "markdown",
   "metadata": {},
   "source": [
    "# Universality: U3 and CNOT decomposition\n",
    "\n",
    "In the explorer universality challenge we introduced the concept of universality but we focused only on a single qubit. Today we will make things more difficult. It has been proven that with the parametric gate [U3](https://docs.pennylane.ai/en/stable/code/api/pennylane.U3.html) and the CNOT gate we can build any operator. In this exercise, we will be asked to work with the following matrix:\n",
    "\n",
    "$$\\Theta = \\begin{pmatrix}\n",
    "            1 & 1 & 0 & 0 & 0 & 0 & 0 & 0\\\\\n",
    "            1 &-1 & 0 & 0 & 0 & 0 & 0 & 0\\\\\n",
    "            0 & 0 &-1 &-1 & 0 & 0 & 0 & 0\\\\\n",
    "            0 & 0 &-1 & 1 & 0 & 0 & 0 & 0\\\\\n",
    "            0 & 0 & 0 & 0 & 1 & 1 & 0 & 0\\\\\n",
    "            0 & 0 & 0 & 0 & 1 &-1 & 0 & 0\\\\\n",
    "            0 & 0 & 0 & 0 & 0 & 0 & 1 & 1\\\\\n",
    "            0 & 0 & 0 & 0 & 0 & 0 & 1 &-1\n",
    "        \\end{pmatrix}\n",
    "$$\n",
    "\n",
    "\n",
    "You are asked to create an operator in which only U3 and CNOT gates are used and whose associated matrix is the above. Remember that to check the matrix of an operator you can use the `qml.matrix` function. Let's see an example:\n",
    "\n",
    "```python\n",
    "def circuit():\n",
    "    qml.PauliX(wires = 0)\n",
    "    qml.Hadamard(wires = 1) \n",
    "```\n",
    "\n",
    "```\n",
    ">> qml.matrix(circuit)()\n",
    "\n",
    "array([[ 0.        ,  0.        ,  0.70710678,  0.70710678],\n",
    "       [ 0.        ,  0.        ,  0.70710678, -0.70710678],\n",
    "       [ 0.70710678,  0.70710678,  0.        ,  0.        ],\n",
    "       [ 0.70710678, -0.70710678,  0.        ,  0.        ]])\n",
    "```\n",
    "\n",
    "To evaluate your solution, it will be checked that the matrices match and that the gates used are the ones allowed."
   ]
  },
  {
   "cell_type": "markdown",
   "metadata": {},
   "source": [
    "## Challenge code\n",
    "\n",
    "You must complete the `circuit()` function below. Inside the function you simply have to include the necessary operations to generate the requested matrix.\n",
    "\n",
    "### Inputs and Outputs\n",
    "\n",
    "In this challenge, we will not have inputs and outputs. The test will be done by checking that the matrix of your circuit coincides with that of the statement. When testing yourself, you can always print the matrix using `qml.matrix(circuit, wire_order=[0,1,2])`.\n",
    "\n",
    "If your solution matches the correct one within the given tolerance specified in `check` (in this case it's a `1e-05` relative error tolerance), the output will be `\"Correct!\"`. Otherwise, you will receive a `\"Wrong answer\"` prompt.\n",
    "\n",
    "Good luck!"
   ]
  },
  {
   "cell_type": "code",
   "execution_count": 4,
   "metadata": {},
   "outputs": [],
   "source": [
    "import json\n",
    "import pennylane as qml\n",
    "import pennylane.numpy as np"
   ]
  },
  {
   "cell_type": "code",
   "execution_count": 5,
   "metadata": {},
   "outputs": [],
   "source": [
    "def circuit():\n",
    "    \"\"\"\n",
    "    Succession of gates that will generate the requested matrix.\n",
    "    This function does not receive any arguments nor does it return any values.\n",
    "    \"\"\"\n",
    "\n",
    "    qml.U3(-np.pi/2, 0, 0, wires=0)\n",
    "    qml.CNOT(wires=(1, 0))\n",
    "    qml.U3(np.pi/2, 0, 0, wires=0)\n",
    "    qml.U3(-np.pi/2, 0, 0, wires=2)\n",
    "    qml.U3(0, np.pi, 0, wires=2)\n",
    "    "
   ]
  },
  {
   "cell_type": "code",
   "execution_count": 6,
   "metadata": {},
   "outputs": [],
   "source": [
    "# These functions are responsible for testing the solution.\n",
    "\n",
    "def run(input: str) -> str:\n",
    "    matrix = qml.matrix(circuit)().real\n",
    "\n",
    "    with qml.tape.QuantumTape() as tape:\n",
    "        circuit()\n",
    "\n",
    "    names = [op.name for op in tape.operations]\n",
    "    return json.dumps({\"matrix\": matrix.tolist(), \"gates\": names})\n",
    "\n",
    "def check(user_output: str, expected_output: str) -> str:\n",
    "    parsed_output = json.loads(user_output)\n",
    "    matrix_user = np.array(parsed_output[\"matrix\"])\n",
    "    gates = parsed_output[\"gates\"]\n",
    "\n",
    "    solution = (\n",
    "        1\n",
    "        / np.sqrt(2)\n",
    "        * np.array(\n",
    "            [\n",
    "                [1, 1, 0, 0, 0, 0, 0, 0],\n",
    "                [1, -1, 0, 0, 0, 0, 0, 0],\n",
    "                [0, 0, -1, -1, 0, 0, 0, 0],\n",
    "                [0, 0, -1, 1, 0, 0, 0, 0],\n",
    "                [0, 0, 0, 0, 1, 1, 0, 0],\n",
    "                [0, 0, 0, 0, 1, -1, 0, 0],\n",
    "                [0, 0, 0, 0, 0, 0, 1, 1],\n",
    "                [0, 0, 0, 0, 0, 0, 1, -1],\n",
    "            ]\n",
    "        )\n",
    "    )\n",
    "\n",
    "    assert np.allclose(matrix_user, solution)\n",
    "    assert len(set(gates)) == 2 and \"U3\" in gates and \"CNOT\" in gates\n"
   ]
  },
  {
   "cell_type": "code",
   "execution_count": 7,
   "metadata": {},
   "outputs": [],
   "source": [
    "test_cases = [['No input', 'No output']]"
   ]
  },
  {
   "cell_type": "code",
   "execution_count": 8,
   "metadata": {},
   "outputs": [
    {
     "name": "stdout",
     "output_type": "stream",
     "text": [
      "Running test case 0 with input 'No input'...\n",
      "Correct!\n"
     ]
    }
   ],
   "source": [
    "for i, (input_, expected_output) in enumerate(test_cases):\n",
    "    print(f\"Running test case {i} with input '{input_}'...\")\n",
    "\n",
    "    try:\n",
    "        output = run(input_)\n",
    "\n",
    "    except Exception as exc:\n",
    "        print(f\"Runtime Error. {exc}\")\n",
    "\n",
    "    else:\n",
    "        if message := check(output, expected_output):\n",
    "            print(f\"Wrong Answer. Have: '{output}'. Want: '{expected_output}'.\")\n",
    "\n",
    "        else:\n",
    "            print(\"Correct!\")"
   ]
  },
  {
   "cell_type": "code",
   "execution_count": null,
   "metadata": {},
   "outputs": [],
   "source": []
  }
 ],
 "metadata": {
  "kernelspec": {
   "display_name": "Python 3.9.12 ('base')",
   "language": "python",
   "name": "python3"
  },
  "language_info": {
   "codemirror_mode": {
    "name": "ipython",
    "version": 3
   },
   "file_extension": ".py",
   "mimetype": "text/x-python",
   "name": "python",
   "nbconvert_exporter": "python",
   "pygments_lexer": "ipython3",
   "version": "3.9.12"
  },
  "orig_nbformat": 4,
  "vscode": {
   "interpreter": {
    "hash": "89b33e2f3e1f3b3c3cf43053da4a77393304f1922ee464c65de0a96280ad9c28"
   }
  }
 },
 "nbformat": 4,
 "nbformat_minor": 2
}
