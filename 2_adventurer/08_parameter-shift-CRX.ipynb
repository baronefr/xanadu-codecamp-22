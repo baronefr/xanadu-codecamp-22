{
 "cells": [
  {
   "cell_type": "markdown",
   "metadata": {},
   "source": [
    "# Gradients: A four-term parameter-shift rule\n",
    "\n",
    "In the last problem, you learned about the two-term parameter-shift rule for the Pauli rotation gates. The parameter-shift rule isn't limited to the Pauli rotation gates, and in this problem you'll adventure into more complicated parameter shift rules!\n",
    "\n",
    "Arguably the next simplest parameter-shift rule compared to the Pauli rotation gates is that of the _controlled_ Pauli rotation gates: $CRX$, $CRY$, and $CRZ$. Let's highlight the key differences between the parameter-shift rule for the controlled Pauli rotations and the regular Pauli rotations.\n",
    "\n",
    "- Four terms: the parameter-shift rule for the controlled Pauli rotations contains _four_ terms, not two!\n",
    "- Shifts: for the parameter-shift rule for the Pauli rotations, we could use any real-valued shift for it to work. Here, it's not so simple! The coefficients of the shift rule and the shifts themselves depend on each other!\n",
    "\n",
    "The parameter-shift rule looks something like this:\n",
    "\n",
    "$$\\frac{\\partial}{\\partial \\theta_i} f(\\vec \\theta) = c_1 \\left( f(\\theta_i+s_1) - f(\\theta_i-s_1) \\right) - c_2 \\left( f(\\theta_i+s_2) - f(\\theta_i-s_2) \\right)$$\n",
    "\n",
    "where the shifts $s_i$ and coefficients $c_i$ depend on each other. You'll have to do some digging to figure out how to calculate them... but there isn't a unique solution!"
   ]
  },
  {
   "cell_type": "markdown",
   "metadata": {},
   "source": [
    "## Challenge code\n",
    "\n",
    "In the code below, you are given a few functions:\n",
    "\n",
    "- `circuit`: This describes the function $f(\\vec \\theta)$.\n",
    "- `shifts_and_coeffs`: This function calculates $s_1$, $s_2$, $c_1$, and $c_2$. No fancy calculations are needed here; you can simply state, for example, $s_1=1.23$ and $s_2=4.56$ and return those values. **You must complete this function**.\n",
    "- `my_parameter_shift_grad`: This is where you will implement calculating $\\frac{\\partial}{\\partial \\theta_i} f(\\vec \\theta)$ for every $\\theta_i\\in \\vec\\theta$. It will return the gradient, which is a vector containing every partial derivative. **You must complete this function**.\n",
    "\n",
    "\n",
    "\n",
    "### Input\n",
    "\n",
    "As input to this problem, you are given `params` (`list(float)`), which correspond to the differentiable circuit parameters $\\vec\\theta$.\n",
    "\n",
    "\n",
    "\n",
    "### Output\n",
    "\n",
    "This code will output the `gradient` (`list(float)`) of the `circuit`.\n",
    "\n",
    "If your solution matches the correct one within the given tolerance specified in `check` (in this case it's a `1e-4` relative error tolerance), the output will be `\"Correct!\"`. Otherwise, you will receive a `\"Wrong answer\"` prompt.\n",
    "\n",
    "Good luck!"
   ]
  },
  {
   "cell_type": "code",
   "execution_count": 1,
   "metadata": {},
   "outputs": [],
   "source": [
    "import json\n",
    "import pennylane as qml\n",
    "import pennylane.numpy as np"
   ]
  },
  {
   "cell_type": "code",
   "execution_count": 2,
   "metadata": {},
   "outputs": [],
   "source": [
    "dev = qml.device(\"default.qubit\", wires=3)\n",
    "\n",
    "@qml.qnode(dev)\n",
    "def circuit(params):\n",
    "    \"\"\"The quantum circuit that you will differentiate!\n",
    "\n",
    "    Args:\n",
    "        params (list(float)): The parameters for gates in the circuit\n",
    "    \n",
    "    Returns:\n",
    "        (numpy.array): An expectation value. \n",
    "    \"\"\"\n",
    "    qml.broadcast(qml.Hadamard, wires=range(3), pattern=\"single\")\n",
    "    qml.CRX(params[0], [1, 2])\n",
    "    qml.CRY(params[1], [0, 1])\n",
    "    qml.CRZ(params[2], [2, 0])\n",
    "    return qml.expval(qml.PauliZ(0) + qml.PauliZ(1) + qml.PauliX(2))\n"
   ]
  },
  {
   "cell_type": "code",
   "execution_count": 3,
   "metadata": {},
   "outputs": [],
   "source": [
    "def shifts_and_coeffs():\n",
    "    \"\"\"A function that defines the shift amounts and coefficients needed for\n",
    "    defining a parameter-shift rule for CRX, CRY, and CRZ gates.\n",
    "\n",
    "    Returns:\n",
    "        shifts (list(float)): A list of shift amounts. Order them however you want!\n",
    "        coeffs (list(float)): A list of coefficients. Order them however you want!\n",
    "    \"\"\"\n",
    "    # rule from https://docs.pennylane.ai/en/stable/code/api/pennylane.CRY.html\n",
    "    return [np.pi/2, 3*np.pi/2], [(np.sqrt(2)+1)/(4*np.sqrt(2)) , (np.sqrt(2)-1)/(4*np.sqrt(2)) ]\n",
    "\n",
    "\n",
    "def my_parameter_shift_grad(params):\n",
    "    \"\"\"Your homemade parameter-shift rule function!\n",
    "    NOTE: you cannot use qml.grad within this function\n",
    "\n",
    "    Args:\n",
    "        params (list(float)): The parameters for gates in the circuit\n",
    "    \n",
    "    Returns:\n",
    "        gradient (numpy.array): The gradient of the circuit with respect to the given parameters.\n",
    "    \"\"\"\n",
    "    gradient = np.zeros_like(params)\n",
    "\n",
    "    shifts, coeffs = shifts_and_coeffs()\n",
    "\n",
    "    for i in range(len(params)):\n",
    "        p_plus = np.copy(params)\n",
    "        p_plus[i] += shifts[0]\n",
    "        p_minus = np.copy(params)\n",
    "        p_minus[i] -= shifts[0]\n",
    "\n",
    "        q_plus = np.copy(params)\n",
    "        q_plus[i] += shifts[1]\n",
    "        q_minus = np.copy(params)\n",
    "        q_minus[i] -= shifts[1]\n",
    "\n",
    "        term0 = circuit(p_plus) - circuit(p_minus)\n",
    "        term1 = circuit(q_plus) - circuit(q_minus)\n",
    "\n",
    "        gradient[i] = coeffs[0]*term0 - coeffs[1]*term1\n",
    "    \n",
    "    return np.round_(gradient, decimals=5).tolist()\n",
    "    "
   ]
  },
  {
   "cell_type": "code",
   "execution_count": 4,
   "metadata": {},
   "outputs": [],
   "source": [
    "# These functions are responsible for testing the solution.\n",
    "\n",
    "def run(test_case_input: str) -> str:\n",
    "    params = json.loads(test_case_input)\n",
    "    gradient = my_parameter_shift_grad(params)\n",
    "    return str(gradient)\n",
    "\n",
    "def check(solution_output: str, expected_output: str) -> None:\n",
    "    solution_output = json.loads(solution_output)\n",
    "    expected_output = json.loads(expected_output)\n",
    "    assert np.allclose(\n",
    "        solution_output, expected_output, rtol=1e-4\n",
    "    ), \"Your gradient isn't quite right!\"\n"
   ]
  },
  {
   "cell_type": "code",
   "execution_count": 5,
   "metadata": {},
   "outputs": [],
   "source": [
    "test_cases = [['[1.23, 0.6, 4.56]', '[0.08144, -0.33706, -0.37944]']]"
   ]
  },
  {
   "cell_type": "code",
   "execution_count": 6,
   "metadata": {},
   "outputs": [
    {
     "name": "stdout",
     "output_type": "stream",
     "text": [
      "Running test case 0 with input '[1.23, 0.6, 4.56]'...\n",
      "Correct!\n"
     ]
    }
   ],
   "source": [
    "for i, (input_, expected_output) in enumerate(test_cases):\n",
    "    print(f\"Running test case {i} with input '{input_}'...\")\n",
    "\n",
    "    try:\n",
    "        output = run(input_)\n",
    "\n",
    "    except Exception as exc:\n",
    "        print(f\"Runtime Error. {exc}\")\n",
    "\n",
    "    else:\n",
    "        if message := check(output, expected_output):\n",
    "            print(f\"Wrong Answer. Have: '{output}'. Want: '{expected_output}'.\")\n",
    "\n",
    "        else:\n",
    "            print(\"Correct!\")"
   ]
  },
  {
   "cell_type": "code",
   "execution_count": null,
   "metadata": {},
   "outputs": [],
   "source": []
  }
 ],
 "metadata": {
  "kernelspec": {
   "display_name": "Python 3.9.12 ('base')",
   "language": "python",
   "name": "python3"
  },
  "language_info": {
   "codemirror_mode": {
    "name": "ipython",
    "version": 3
   },
   "file_extension": ".py",
   "mimetype": "text/x-python",
   "name": "python",
   "nbconvert_exporter": "python",
   "pygments_lexer": "ipython3",
   "version": "3.9.12"
  },
  "orig_nbformat": 4,
  "vscode": {
   "interpreter": {
    "hash": "89b33e2f3e1f3b3c3cf43053da4a77393304f1922ee464c65de0a96280ad9c28"
   }
  }
 },
 "nbformat": 4,
 "nbformat_minor": 2
}
