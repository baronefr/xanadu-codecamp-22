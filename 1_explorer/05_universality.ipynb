{
 "cells": [
  {
   "cell_type": "markdown",
   "metadata": {},
   "source": [
    "# Universality: Working with one qubit\n",
    "\n",
    "In quantum computing, we have two fundamental structures: states and operators, which we can represent with vectors and matrices respectively. Vectors must have norm 1 (since they determine a sum of probabilities) and matrices must be unitary, i.e. $U^{-1} = U^*$ (to preserve the norm of the vectors). When building a quantum computer, we would like it to be able to generate any $U$ operator we need. However, we cannot physically implement every possible operator, so the goal is to create subsets of gates or operators that are able to generate all the others.\n",
    "\n",
    "It can be easily proved that in the case of one qubit, we can express any single-qubit unitary $U$ in terms of rotations as follows: $e^{i\\phi} R_Z(\\gamma) R_X(\\beta) R_Z(\\alpha)$. This would mean that $R_X$ and $R_Z$ form a universal set. That is why, in this challenge we will be asked to calculate the parameters $\\alpha$, $\\beta$, and $\\gamma$ of a given gate $U$. In particular, we will use a variational method to find these parameters so we will also ask for an error function that tells us how well we are approximating our matrix to $U$.\n",
    "\n",
    "*Note: Remember that if we write a gate $U$ as $A\\cdot B$, it means that $B$ is executed first, and then $A$.*"
   ]
  },
  {
   "cell_type": "markdown",
   "metadata": {},
   "source": [
    "## Challenge code\n",
    "\n",
    "You must complete the `get_matrix` function below in which you will return the matrix associated with those parameters. Once this is done, a small script will be given to optimize the algorithm looking for the best parameters. In order to do this you must also define the `error` function that determines how well you are approximating your matrix to the target operator.\n",
    "\n",
    "### Input\n",
    "\n",
    "As input to this problem, you are given a $2\\times2$ complex matrix that you will try to approximate.\n",
    "\n",
    "### Output\n",
    "\n",
    "This code will calculate a `list(float)` containing the four parameters ($\\phi$, $\\alpha$, $\\beta$, and $\\gamma$) using the `train_parameters` function. Then, the code will output the associated matrix generated from `get_matrix`.\n",
    "\n",
    "If your solution matches the correct one within the given tolerance specified in `check` (in this case it's a `0.2` absolute error tolerance), the output will be `\"Correct!\"`. Otherwise, you will receive a `\"Wrong answer\"` prompt.\n",
    "\n",
    "Good luck!"
   ]
  },
  {
   "cell_type": "code",
   "execution_count": 1,
   "metadata": {},
   "outputs": [],
   "source": [
    "import json\n",
    "import pennylane as qml\n",
    "import pennylane.numpy as np\n",
    "\n",
    "np.random.seed(1967)\n"
   ]
  },
  {
   "cell_type": "code",
   "execution_count": 2,
   "metadata": {},
   "outputs": [],
   "source": [
    "def get_matrix(params):\n",
    "    \"\"\"\n",
    "    Args:\n",
    "        - params (array): The four parameters of the model.\n",
    "    Returns:\n",
    "        - (matrix): The associated matrix to these parameters.\n",
    "    \"\"\"\n",
    "    \n",
    "    alpha, beta, gamma, phi = params\n",
    "    \n",
    "    mx = np.exp(phi*1j) * qml.matrix( qml.Rot(alpha, beta, gamma, wires=0) )\n",
    "    \n",
    "    return mx\n",
    "\n",
    "\n",
    "def error(U, params):\n",
    "    \"\"\"\n",
    "    This function determines the similarity between your generated matrix and the target unitary.\n",
    "\n",
    "    Args:\n",
    "        - U (matrix): Goal matrix that we want to approach.\n",
    "        - params (array): The four parameters of the model.\n",
    "\n",
    "    Returns:\n",
    "        - (float): Error associated with the quality of the solution.\n",
    "    \"\"\"\n",
    "\n",
    "    matrix = np.real(get_matrix(params))\n",
    "    return np.linalg.norm(matrix - U)\n",
    "    "
   ]
  },
  {
   "cell_type": "code",
   "execution_count": 3,
   "metadata": {},
   "outputs": [],
   "source": [
    "def train_parameters(U):\n",
    "\n",
    "    epochs = 1000\n",
    "    lr = 0.01\n",
    "\n",
    "    grad = qml.grad(error, argnum=1)\n",
    "    params = np.random.rand(4) * np.pi\n",
    "\n",
    "    for epoch in range(epochs):\n",
    "        params -= lr * grad(U, params)\n",
    "\n",
    "    return params\n"
   ]
  },
  {
   "cell_type": "code",
   "execution_count": 4,
   "metadata": {},
   "outputs": [],
   "source": [
    "# These functions are responsible for testing the solution.\n",
    "\n",
    "def run(test_case_input: str) -> str:\n",
    "    matrix = json.loads(test_case_input)\n",
    "    params = [float(p) for p in train_parameters(matrix)]\n",
    "    return json.dumps(params)\n",
    "\n",
    "def check(solution_output: str, expected_output: str) -> None:\n",
    "    matrix1 = get_matrix(json.loads(solution_output))\n",
    "    matrix2 = json.loads(expected_output)\n",
    "    assert not np.allclose(get_matrix(np.random.rand(4)), get_matrix(np.random.rand(4)))\n",
    "    assert np.allclose(matrix1, matrix2, atol=0.2)\n"
   ]
  },
  {
   "cell_type": "code",
   "execution_count": 5,
   "metadata": {},
   "outputs": [],
   "source": [
    "test_cases = [['[[ 0.70710678,  0.70710678], [ 0.70710678, -0.70710678]]', '[[ 0.70710678,  0.70710678], [ 0.70710678, -0.70710678]]'], ['[[ 1,  0], [ 0, -1]]', '[[ 1,  0], [ 0, -1]]']]"
   ]
  },
  {
   "cell_type": "code",
   "execution_count": 6,
   "metadata": {},
   "outputs": [
    {
     "name": "stdout",
     "output_type": "stream",
     "text": [
      "Running test case 0 with input '[[ 0.70710678,  0.70710678], [ 0.70710678, -0.70710678]]'...\n",
      "Correct!\n",
      "Running test case 1 with input '[[ 1,  0], [ 0, -1]]'...\n",
      "Correct!\n"
     ]
    }
   ],
   "source": [
    "for i, (input_, expected_output) in enumerate(test_cases):\n",
    "    print(f\"Running test case {i} with input '{input_}'...\")\n",
    "\n",
    "    try:\n",
    "        output = run(input_)\n",
    "\n",
    "    except Exception as exc:\n",
    "        print(f\"Runtime Error. {exc}\")\n",
    "\n",
    "    else:\n",
    "        if message := check(output, expected_output):\n",
    "            print(f\"Wrong Answer. Have: '{output}'. Want: '{expected_output}'.\")\n",
    "\n",
    "        else:\n",
    "            print(\"Correct!\")"
   ]
  },
  {
   "cell_type": "code",
   "execution_count": null,
   "metadata": {},
   "outputs": [],
   "source": []
  }
 ],
 "metadata": {
  "kernelspec": {
   "display_name": "Python 3.9.12 ('base')",
   "language": "python",
   "name": "python3"
  },
  "language_info": {
   "codemirror_mode": {
    "name": "ipython",
    "version": 3
   },
   "file_extension": ".py",
   "mimetype": "text/x-python",
   "name": "python",
   "nbconvert_exporter": "python",
   "pygments_lexer": "ipython3",
   "version": "3.9.12"
  },
  "orig_nbformat": 4,
  "vscode": {
   "interpreter": {
    "hash": "89b33e2f3e1f3b3c3cf43053da4a77393304f1922ee464c65de0a96280ad9c28"
   }
  }
 },
 "nbformat": 4,
 "nbformat_minor": 2
}
