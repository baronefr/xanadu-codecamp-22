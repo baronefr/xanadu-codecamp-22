{
 "cells": [
  {
   "cell_type": "markdown",
   "metadata": {},
   "source": [
    "# Differentiable ZNE: Noisy circuits\n",
    "#### Challenge (1/15)\n",
    "#### 100 points\n",
    "\n",
    "Whenever we simulate quantum circuits, we can do so under the most ideal circumstances, i.e. without needing to worry about noise. In practice, implementing, say, a Pauli $Z$ gate on today's hardware isn't as easy as writing `qml.PauliZ`; what ends up actually being implemented is an operation that's close to `qml.PauliZ` because, in some way, real-world noise is present.\n",
    "\n",
    "There are many ways to combat noise, including a technique called zero-noise extrapolation (ZNE). We will work more with ZNE later! But, on the path towards fault-tolerant quantum computing, we must inevitably understand noise in order to combat it.\n",
    "\n",
    "PennyLane offers the ability to _simulate_ different types of noise that are present in quantum devices. One such type of noise is called a _bitflip error_. A _bitflip error_, occuring with a probability $p$\n",
    "on a given single qubit, is an error resulting in the state of a qubit being accidentally flipped. Check out [this demo](https://pennylane.ai/qml/demos/tutorial_noisy_circuits.html#noisy-operations) to learn more about modelling noise in PennyLane!\n",
    "\n",
    "In this challenge, you'll implement a two-qubit circuit that contains bitflip errors on each of the qubits to see how the resulting quantum state drifts from that of the noise-less/error-free circuit. To do so, the [fidelity](https://docs.pennylane.ai/en/stable/code/api/pennylane.math.fidelity.html?highlight=fidelity) between the respective states for various bitflip probabilities $p$ will be calculated.\n",
    "\n",
    "## Challenge code\n",
    "\n",
    "The provided code below contains a few functions:\n",
    "\n",
    "* `circuit`: A quantum circuit that contains a Hadamard and CNOT gate.\n",
    "  \n",
    "  <img src=\"https://s3.us-east-1.amazonaws.com/grader-service-content-production/challenge-images/explorer_differentiable_ZNE/circuit.png\" alt=\"Hadamard and CNOT gate\" style=\"height: 200px;\"/>\n",
    "\n",
    "* `bitflip_circuit`: A quantum circuit that must be exactly like `circuit`, with the exception of bitflip errors on each qubit. **You must complete this function**.\n",
    "\n",
    "  <img src=\"https://s3.us-east-1.amazonaws.com/grader-service-content-production/challenge-images/explorer_differentiable_ZNE/noisy_circuit.png\" alt=\"Hadamard and CNOT gate Noisy\" style=\"height: 200px;\"/>\n",
    "\n",
    "* `fidelities`: This function returns the quantum fidelity between the resulting states from the circuits mentioned above for various bitflip probabilities.\n",
    "\n",
    "### Input\n",
    "As input to this problem, you are given a list of probabilities $p$ (`list(float)`) that define bitflip probabilities.\n",
    "\n",
    "### Output\n",
    "This code will output the `fidelities` (`list(float)`) between the error-free circuit's state and that of the circuits with bitflip errors given by the input probabilities.\n",
    "\n",
    "If your solution matches the correct one within the given tolerance specified in `check` (in this case it's a `1e-4` relative error tolerance), the output will be `\"Correct!\"`. Otherwise, you will receive a `\"Wrong answer\"` prompt.\n",
    "\n",
    "Good luck!"
   ]
  },
  {
   "cell_type": "markdown",
   "metadata": {},
   "source": [
    "### Code"
   ]
  },
  {
   "cell_type": "code",
   "execution_count": 1,
   "metadata": {},
   "outputs": [],
   "source": [
    "import json\n",
    "\n",
    "import pennylane as qml\n",
    "import pennylane.numpy as np"
   ]
  },
  {
   "cell_type": "code",
   "execution_count": 2,
   "metadata": {},
   "outputs": [],
   "source": [
    "# Create the device used to simulate the quantum circuit \n",
    "# and to construct QNodes.\n",
    "dev = qml.device(\"default.mixed\", wires=2)\n",
    "\n",
    "@qml.qnode(dev)\n",
    "def circuit():\n",
    "    \"\"\"An error-less quantum circuit.\n",
    "\n",
    "    Returns:\n",
    "        qml.state():\n",
    "            The quantum state.\n",
    "    \"\"\"\n",
    "    qml.Hadamard(wires=0)\n",
    "    qml.CNOT(wires=[0, 1])\n",
    "    \n",
    "    return qml.state()"
   ]
  },
  {
   "cell_type": "code",
   "execution_count": 3,
   "metadata": {},
   "outputs": [],
   "source": [
    "@qml.qnode(dev)\n",
    "def bitflip_circuit(p):\n",
    "    \"\"\"A quantum circuit that contains two bitflip errors.\n",
    "    It is the same circuit as the one above, but with bitflip errors.\n",
    "\n",
    "    Args:\n",
    "        p (float):\n",
    "            The bitflip probability.\n",
    "\n",
    "    Returns:\n",
    "        qml.state():\n",
    "            The quantum state.\n",
    "    \"\"\"\n",
    "    qml.Hadamard(wires=0)\n",
    "    qml.CNOT(wires=[0,1])\n",
    "    qml.BitFlip(p, wires=0)\n",
    "    qml.BitFlip(p, wires=1)\n",
    "\n",
    "    return qml.state()"
   ]
  },
  {
   "cell_type": "code",
   "execution_count": 4,
   "metadata": {},
   "outputs": [],
   "source": [
    "def fidelities(probs):\n",
    "    fids = np.zeros(len(probs))\n",
    "    # For each bitflip-probability value in probs (list(float))...\n",
    "    for i, p in enumerate(probs):\n",
    "        # Compute the fidelity between the output of the noisy circuit\n",
    "        # and the ideal circuit\n",
    "        fid = qml.math.fidelity(bitflip_circuit(p), circuit())\n",
    "        fids[i] = fid\n",
    "    return np.round_(fids, decimals=5).tolist()"
   ]
  },
  {
   "cell_type": "code",
   "execution_count": 5,
   "metadata": {},
   "outputs": [
    {
     "name": "stdout",
     "output_type": "stream",
     "text": [
      "Running test case 0 with input '[0.05, 0.1, 0.15, 0.2, 0.25]'...\n",
      "Correct!\n"
     ]
    }
   ],
   "source": [
    "def run(test_case_input: str) -> str:\n",
    "    probs = json.loads(test_case_input)\n",
    "    fids = fidelities(probs)\n",
    "    return str(fids)\n",
    "\n",
    "def check(solution_output: str, expected_output: str) -> None:\n",
    "    solution_output = json.loads(solution_output)\n",
    "    expected_output = json.loads(expected_output)\n",
    "    assert np.allclose(\n",
    "        solution_output, expected_output, rtol=1e-4\n",
    "    ), \"Your circuit isn't quite right!\"\n",
    "\n",
    "\n",
    "test_cases = [['[0.05, 0.1, 0.15, 0.2, 0.25]', '[0.905, 0.82, 0.745, 0.68, 0.625]']]\n",
    "\n",
    "for i, (input_, expected_output) in enumerate(test_cases):\n",
    "    print(f\"Running test case {i} with input '{input_}'...\")\n",
    "\n",
    "    try:\n",
    "        output = run(input_)\n",
    "\n",
    "    except Exception as exc:\n",
    "        print(f\"Runtime Error. {exc}\")\n",
    "\n",
    "    else:\n",
    "        if message := check(output, expected_output):\n",
    "            print(f\"Wrong Answer. Have: '{output}'. Want: '{expected_output}'.\")\n",
    "\n",
    "        else:\n",
    "            print(\"Correct!\")\n"
   ]
  },
  {
   "cell_type": "code",
   "execution_count": null,
   "metadata": {},
   "outputs": [],
   "source": []
  }
 ],
 "metadata": {
  "kernelspec": {
   "display_name": "Python 3.9.12 ('codecamp': venv)",
   "language": "python",
   "name": "python3"
  },
  "language_info": {
   "codemirror_mode": {
    "name": "ipython",
    "version": 3
   },
   "file_extension": ".py",
   "mimetype": "text/x-python",
   "name": "python",
   "nbconvert_exporter": "python",
   "pygments_lexer": "ipython3",
   "version": "3.9.12"
  },
  "orig_nbformat": 4,
  "vscode": {
   "interpreter": {
    "hash": "c388088b2101c562a6a327abcaf687b3eca545adf2f227b7c67acbec0d6f0fb1"
   }
  }
 },
 "nbformat": 4,
 "nbformat_minor": 2
}
